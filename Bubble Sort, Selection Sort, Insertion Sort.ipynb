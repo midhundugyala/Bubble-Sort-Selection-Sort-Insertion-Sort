{
 "cells": [
  {
   "cell_type": "code",
   "execution_count": 1,
   "metadata": {},
   "outputs": [
    {
     "name": "stdout",
     "output_type": "stream",
     "text": [
      "Sorted array using Bubble Sort Algorithm : \n",
      "32\n",
      "34\n",
      "56\n",
      "64\n",
      "67\n",
      "78\n",
      "98\n"
     ]
    }
   ],
   "source": [
    "def bubble_sort(array):\n",
    "    n = len(array)\n",
    "    for i in range(n):\n",
    "        for j in range(0, n-i-1):\n",
    "            if array[j] > array[j+1]:\n",
    "                array[j], array[j+1] = array[j+1], array[j]\n",
    "\n",
    "array = [64, 56, 78, 34, 98, 32, 67]\n",
    "bubble_sort(array)\n",
    "print(\"Sorted array using Bubble Sort Algorithm : \")\n",
    "for i in range(len(array)):\n",
    "    print(array[i])"
   ]
  },
  {
   "cell_type": "code",
   "execution_count": 2,
   "metadata": {},
   "outputs": [
    {
     "name": "stdout",
     "output_type": "stream",
     "text": [
      "Sorted array using Insertion Sort algorithm : \n",
      "23\n",
      "34\n",
      "34\n",
      "56\n",
      "65\n",
      "76\n"
     ]
    }
   ],
   "source": [
    "def insertion_sort(array):\n",
    "    for i in range(1, len(array)):\n",
    "        key = array[i]\n",
    "        j = i - 1\n",
    "        while j >= 0 and key < array[j]:\n",
    "            array[j + 1] = array[j]\n",
    "            j-=1\n",
    "        array[j + 1] = key\n",
    "\n",
    "array = [34, 56, 76, 34, 23, 65]\n",
    "insertion_sort(array)\n",
    "print(\"Sorted array using Insertion Sort algorithm : \")\n",
    "for i in range(len(array)):\n",
    "    print(array[i])"
   ]
  },
  {
   "cell_type": "code",
   "execution_count": 3,
   "metadata": {},
   "outputs": [
    {
     "name": "stdout",
     "output_type": "stream",
     "text": [
      "Sorted Array using Selection sort algorithm : \n",
      "32\n",
      "34\n",
      "54\n",
      "56\n",
      "65\n",
      "89\n"
     ]
    }
   ],
   "source": [
    "a = [34, 56, 32, 89, 65, 54]\n",
    "\n",
    "for i in range(len(a)):\n",
    "    index = i\n",
    "    for j in range(i+1, len(a)):\n",
    "        if a[index] > a[j]:\n",
    "            index = j\n",
    "    a[i], a[index] = a[index], a[i]\n",
    "print(\"Sorted Array using Selection sort algorithm : \")\n",
    "for i in range(len(a)):\n",
    "    print(a[i])"
   ]
  },
  {
   "cell_type": "code",
   "execution_count": null,
   "metadata": {},
   "outputs": [],
   "source": []
  }
 ],
 "metadata": {
  "kernelspec": {
   "display_name": "Python 3",
   "language": "python",
   "name": "python3"
  },
  "language_info": {
   "codemirror_mode": {
    "name": "ipython",
    "version": 3
   },
   "file_extension": ".py",
   "mimetype": "text/x-python",
   "name": "python",
   "nbconvert_exporter": "python",
   "pygments_lexer": "ipython3",
   "version": "3.7.1"
  }
 },
 "nbformat": 4,
 "nbformat_minor": 2
}
